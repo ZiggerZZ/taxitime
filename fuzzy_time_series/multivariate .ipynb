{
 "cells": [
  {
   "cell_type": "code",
   "execution_count": 1,
   "metadata": {},
   "outputs": [],
   "source": [
    "import warnings\n",
    "warnings.filterwarnings('ignore')\n",
    "\n",
    "import pandas as pd\n",
    "import numpy as np\n",
    "import matplotlib.pyplot as plt\n",
    "\n",
    "from pyFTS.common import Util"
   ]
  },
  {
   "cell_type": "code",
   "execution_count": 2,
   "metadata": {},
   "outputs": [],
   "source": [
    "data_url = 'https://raw.githubusercontent.com/ZiggerZZ/taxitime/master/data/complete_data.csv'\n",
    "df = pd.read_csv( data_url )\n",
    "df['actual_landing_time'] = pd.to_datetime( df.actual_landing_time )\n",
    "df['date'] = pd.to_datetime( df.date )\n",
    "\n",
    "# Averaging per day\n",
    "daily = df.loc[:, ['date', 't_minutes'] ].groupby( ['date'] ).mean()\n",
    "\n",
    "# Averaging per hour\n",
    "df['date_hour'] = df.actual_landing_time.apply( lambda x:x.strftime('%Y-%m-%d %H:00:00') )\n",
    "hourly = df.loc[:, ['date_hour', 't_minutes', 'traffic_metric', 'minutes_of_day'] ].groupby( ['date_hour'] ).mean()\n"
   ]
  },
  {
   "cell_type": "markdown",
   "metadata": {},
   "source": [
    "### Fuzzy Time Series"
   ]
  },
  {
   "cell_type": "code",
   "execution_count": 3,
   "metadata": {},
   "outputs": [],
   "source": [
    "from pyFTS.partitioners import Grid\n",
    "from pyFTS.benchmarks import Measures\n",
    "from pyFTS.models.multivariate import variable\n",
    "from pyFTS.models.seasonal import partitioner as seasonal\n",
    "from pyFTS.models.seasonal.common import DateTime\n",
    "from pyFTS.models.multivariate import mvfts, wmvfts, cmvfts, grid\n",
    "from itertools import product"
   ]
  },
  {
   "cell_type": "code",
   "execution_count": 4,
   "metadata": {},
   "outputs": [],
   "source": [
    "# Split train - validation sets\n",
    "train_df = hourly.reset_index()[ : int(.8*hourly.shape[0]) ]\n",
    "valid_df = hourly.reset_index()[ int(.8*hourly.shape[0]) : ]"
   ]
  },
  {
   "cell_type": "code",
   "execution_count": 18,
   "metadata": {},
   "outputs": [],
   "source": [
    "# Predictors\n",
    "sp = {'seasonality': DateTime.minute_of_day}\n",
    "v_mins = variable.Variable(\"Minutes of Day\", \n",
    "                           data_label= \"minutes_of_day\", \n",
    "                           partitioner= Grid.GridPartitioner, \n",
    "                           npart= 24,\n",
    "                           data=train_df, \n",
    "                           partitioner_specific= sp)\n",
    "\n",
    "# v_traffic = variable.Variable(\"Traffic\", \n",
    "#                               data_label= \"traffic_metric\", \n",
    "#                               partitioner= Grid.GridPartitioner, \n",
    "#                               npart= 24, \n",
    "#                               data= train_df) \n",
    "\n",
    "# Response variable\n",
    "levels = ['VL','L','M','H','VH']\n",
    "sublevels = [str(k) for k in np.arange(0,5)]\n",
    "names = []\n",
    "for combination in product(*[levels, sublevels]):\n",
    "    names.append(combination[0]+combination[1])\n",
    "\n",
    "vavg = variable.Variable(\"Taxi Time\", \n",
    "                         data_label= \"t_minutes\", \n",
    "                         alias= 't_mins',\n",
    "                         partitioner= Grid.GridPartitioner, \n",
    "                         npart= 25, \n",
    "                         partitioner_specific= {'names': names},  \n",
    "                         data= train_df) "
   ]
  },
  {
   "cell_type": "code",
   "execution_count": 21,
   "metadata": {},
   "outputs": [
    {
     "name": "stdout",
     "output_type": "stream",
     "text": [
      "CPU times: user 8.37 s, sys: 68.5 ms, total: 8.44 s\n",
      "Wall time: 8.25 s\n"
     ]
    }
   ],
   "source": [
    "%%time\n",
    "\n",
    "\n",
    "models = []\n",
    "parameters = [ {},{}, {'order':2, 'knn': 2}]\n",
    "\n",
    "for ct, method in enumerate([mvfts.MVFTS, \n",
    "                             wmvfts.WeightedMVFTS, \n",
    "                             cmvfts.ClusteredMVFTS]):\n",
    "        if method != cmvfts.ClusteredMVFTS:\n",
    "            model = method(explanatory_variables=[v_mins, vavg], target_variable=vavg, **parameters[ct])\n",
    "        else:\n",
    "            fs = grid.GridCluster(explanatory_variables=[v_mins, vavg], target_variable=vavg) #v_traffic,\n",
    "            model = method(explanatory_variables=[v_mins, vavg], target_variable=vavg, partitioner=fs, **parameters[ct]) #v_traffic,\n",
    "        model.name += str(ct)\n",
    "        model.fit(train_df)\n",
    "        models.append(model.shortname)\n",
    "        forecasts = model.predict( valid_df.iloc[:100])\n",
    "        Util.persist_obj(model, model.shortname)\n",
    "        del(model)"
   ]
  },
  {
   "cell_type": "code",
   "execution_count": 22,
   "metadata": {},
   "outputs": [
    {
     "name": "stdout",
     "output_type": "stream",
     "text": [
      "Model: Multivariate FTS0 \n",
      "Order: 1 \n",
      "Size: 219 \n",
      "RMSE: 4.93 \n",
      "\n",
      "Model: Weighted Multivariate FTS1 \n",
      "Order: 1 \n",
      "Size: 219 \n",
      "RMSE: 3.32 \n",
      "\n",
      "Model: Clustered Multivariate FTS2 \n",
      "Order: 2 \n",
      "Size: 1299 \n",
      "RMSE: 2.53 \n",
      "\n"
     ]
    }
   ],
   "source": [
    "for model_name in models:\n",
    "    model = Util.load_obj( model_name )\n",
    "    rmse,_,_ = Measures.get_point_statistics( valid_df, model)\n",
    "    print( f\"Model: {model.name} \\nOrder: {model.order} \\nSize: {len(model)} \\nRMSE: {rmse}\",  '\\n' )"
   ]
  },
  {
   "cell_type": "markdown",
   "metadata": {},
   "source": [
    "### Test model"
   ]
  },
  {
   "cell_type": "code",
   "execution_count": 23,
   "metadata": {},
   "outputs": [],
   "source": [
    "from datetime import datetime, timedelta"
   ]
  },
  {
   "cell_type": "code",
   "execution_count": 24,
   "metadata": {},
   "outputs": [
    {
     "data": {
      "text/html": [
       "<div>\n",
       "<style scoped>\n",
       "    .dataframe tbody tr th:only-of-type {\n",
       "        vertical-align: middle;\n",
       "    }\n",
       "\n",
       "    .dataframe tbody tr th {\n",
       "        vertical-align: top;\n",
       "    }\n",
       "\n",
       "    .dataframe thead th {\n",
       "        text-align: right;\n",
       "    }\n",
       "</style>\n",
       "<table border=\"1\" class=\"dataframe\">\n",
       "  <thead>\n",
       "    <tr style=\"text-align: right;\">\n",
       "      <th></th>\n",
       "      <th>date_hour</th>\n",
       "      <th>t_minutes</th>\n",
       "      <th>minutes_of_day</th>\n",
       "    </tr>\n",
       "  </thead>\n",
       "  <tbody>\n",
       "    <tr>\n",
       "      <td>0</td>\n",
       "      <td>2019-01-17 03:00:00</td>\n",
       "      <td>5.0</td>\n",
       "      <td>198.0</td>\n",
       "    </tr>\n",
       "    <tr>\n",
       "      <td>1</td>\n",
       "      <td>2019-01-17 03:00:00</td>\n",
       "      <td>7.0</td>\n",
       "      <td>216.0</td>\n",
       "    </tr>\n",
       "  </tbody>\n",
       "</table>\n",
       "</div>"
      ],
      "text/plain": [
       "            date_hour  t_minutes  minutes_of_day\n",
       "0 2019-01-17 03:00:00        5.0           198.0\n",
       "1 2019-01-17 03:00:00        7.0           216.0"
      ]
     },
     "execution_count": 24,
     "metadata": {},
     "output_type": "execute_result"
    }
   ],
   "source": [
    "# TEST DATASET\n",
    "test_url = 'https://raw.githubusercontent.com/ZiggerZZ/taxitime/master/data/test_complete_data.csv'\n",
    "test_data = pd.read_csv( test_url )\n",
    "\n",
    "\n",
    "test_data = test_data[['actual_landing_time', 't_minutes', 'minutes_of_day']] #, 'traffic_metric',]]\n",
    "test_data['minutes_of_day'] = test_data.minutes_of_day.apply( lambda x: float(x) ) \n",
    "test_data['actual_landing_time'] = pd.to_datetime( test_data.actual_landing_time )\n",
    "test_data['date_hour'] = test_data.actual_landing_time.apply( lambda x: datetime.strptime(x.strftime('%Y-%m-%d %H:00'), '%Y-%m-%d %H:00') )\n",
    "test_data = test_data[['date_hour', 't_minutes', 'minutes_of_day']] #, 'traffic_metric']]\n",
    "test_data.head(2)"
   ]
  },
  {
   "cell_type": "code",
   "execution_count": 11,
   "metadata": {},
   "outputs": [],
   "source": [
    "# traffic_temp = test_data.groupby('date_hour').mean()\n",
    "# traffic_temp.reset_index(inplace= True)\n",
    "\n",
    "# hours_temp = pd.DataFrame( hours, columns=['date_hour'] )\n",
    "\n",
    "# traffic_df = pd.merge(left= hours_temp, right= traffic_temp[['date_hour','traffic_metric']], left_on='date_hour',right_on='date_hour', how='left')\n",
    "# traffic_df = traffic_df.fillna(method='ffill')\n",
    "# traffic_df.head(2)"
   ]
  },
  {
   "cell_type": "code",
   "execution_count": 25,
   "metadata": {},
   "outputs": [
    {
     "data": {
      "text/html": [
       "<div>\n",
       "<style scoped>\n",
       "    .dataframe tbody tr th:only-of-type {\n",
       "        vertical-align: middle;\n",
       "    }\n",
       "\n",
       "    .dataframe tbody tr th {\n",
       "        vertical-align: top;\n",
       "    }\n",
       "\n",
       "    .dataframe thead th {\n",
       "        text-align: right;\n",
       "    }\n",
       "</style>\n",
       "<table border=\"1\" class=\"dataframe\">\n",
       "  <thead>\n",
       "    <tr style=\"text-align: right;\">\n",
       "      <th></th>\n",
       "      <th>t_minutes</th>\n",
       "      <th>minutes_of_day</th>\n",
       "    </tr>\n",
       "    <tr>\n",
       "      <th>date_hour</th>\n",
       "      <th></th>\n",
       "      <th></th>\n",
       "    </tr>\n",
       "  </thead>\n",
       "  <tbody>\n",
       "    <tr>\n",
       "      <td>2019-01-17 03:00:00</td>\n",
       "      <td>6.166667</td>\n",
       "      <td>221.666667</td>\n",
       "    </tr>\n",
       "    <tr>\n",
       "      <td>2019-01-17 04:00:00</td>\n",
       "      <td>6.000000</td>\n",
       "      <td>248.000000</td>\n",
       "    </tr>\n",
       "  </tbody>\n",
       "</table>\n",
       "</div>"
      ],
      "text/plain": [
       "                     t_minutes  minutes_of_day\n",
       "date_hour                                     \n",
       "2019-01-17 03:00:00   6.166667      221.666667\n",
       "2019-01-17 04:00:00   6.000000      248.000000"
      ]
     },
     "execution_count": 25,
     "metadata": {},
     "output_type": "execute_result"
    }
   ],
   "source": [
    "# Calculate range of hours = the number of points to predict \n",
    "# Create the sequence of hours to be predicted\n",
    "steps = int((test_data.date_hour.max() - test_data.date_hour.min()).total_seconds()//3600)\n",
    "earliest = test_data.date_hour.min()\n",
    "hours = [earliest + timedelta(hours=i) for i in range(steps)]\n",
    "\n",
    "# Get 2 earlierst hourly averages for the time-series to begin \n",
    "initial_points = test_data.groupby('date_hour').mean()[:2]\n",
    "initial_points.head()"
   ]
  },
  {
   "cell_type": "code",
   "execution_count": 26,
   "metadata": {},
   "outputs": [
    {
     "data": {
      "text/html": [
       "<div>\n",
       "<style scoped>\n",
       "    .dataframe tbody tr th:only-of-type {\n",
       "        vertical-align: middle;\n",
       "    }\n",
       "\n",
       "    .dataframe tbody tr th {\n",
       "        vertical-align: top;\n",
       "    }\n",
       "\n",
       "    .dataframe thead th {\n",
       "        text-align: right;\n",
       "    }\n",
       "</style>\n",
       "<table border=\"1\" class=\"dataframe\">\n",
       "  <thead>\n",
       "    <tr style=\"text-align: right;\">\n",
       "      <th></th>\n",
       "      <th>date_hour</th>\n",
       "      <th>prediction</th>\n",
       "    </tr>\n",
       "  </thead>\n",
       "  <tbody>\n",
       "    <tr>\n",
       "      <td>0</td>\n",
       "      <td>2019-01-17 03:00:00</td>\n",
       "      <td>7.371725</td>\n",
       "    </tr>\n",
       "    <tr>\n",
       "      <td>1</td>\n",
       "      <td>2019-01-17 04:00:00</td>\n",
       "      <td>8.627045</td>\n",
       "    </tr>\n",
       "    <tr>\n",
       "      <td>2</td>\n",
       "      <td>2019-01-17 05:00:00</td>\n",
       "      <td>8.387242</td>\n",
       "    </tr>\n",
       "    <tr>\n",
       "      <td>3</td>\n",
       "      <td>2019-01-17 06:00:00</td>\n",
       "      <td>8.104167</td>\n",
       "    </tr>\n",
       "    <tr>\n",
       "      <td>4</td>\n",
       "      <td>2019-01-17 07:00:00</td>\n",
       "      <td>8.284306</td>\n",
       "    </tr>\n",
       "  </tbody>\n",
       "</table>\n",
       "</div>"
      ],
      "text/plain": [
       "            date_hour  prediction\n",
       "0 2019-01-17 03:00:00    7.371725\n",
       "1 2019-01-17 04:00:00    8.627045\n",
       "2 2019-01-17 05:00:00    8.387242\n",
       "3 2019-01-17 06:00:00    8.104167\n",
       "4 2019-01-17 07:00:00    8.284306"
      ]
     },
     "execution_count": 26,
     "metadata": {},
     "output_type": "execute_result"
    }
   ],
   "source": [
    "# Predict\n",
    "# Generators\n",
    "genMinutes = lambda x : x+60 if (x+1 <= 24*60) else 0\n",
    "# genTraffic = lambda x : traffic_df.traffic_metric\n",
    "# gen_dict = {'minutes_of_day': genMinutes} #, 'traffic_metric': genTraffic}\n",
    "\n",
    "model = Util.load_obj( 'ClusteredMVFTS' )\n",
    "forecast = model.predict( initial_points, \n",
    "                         steps_ahead= steps, \n",
    "                         generators= {'minutes_of_day': genMinutes})\n",
    "\n",
    "# Wrap everything into a dataframe\n",
    "pred_data = pd.DataFrame( zip(hours, forecast), columns= ['date_hour', 'prediction'] )\n",
    "pred_data.head()"
   ]
  },
  {
   "cell_type": "code",
   "execution_count": 27,
   "metadata": {},
   "outputs": [],
   "source": [
    "# INNER JOIN to the test dataset to get actuals with predictions together\n",
    "test_data = pd.merge(test_data, pred_data, on='date_hour', how='inner')"
   ]
  },
  {
   "cell_type": "code",
   "execution_count": 28,
   "metadata": {},
   "outputs": [
    {
     "data": {
      "text/plain": [
       "4.947279980953038"
      ]
     },
     "execution_count": 28,
     "metadata": {},
     "output_type": "execute_result"
    }
   ],
   "source": [
    "# Calculate the Root Mean Square Error\n",
    "rmse = lambda prediction, actual: (((prediction - actual) ** 2).mean())**(1/2)\n",
    "\n",
    "rmse(test_data.t_minutes, test_data.prediction)"
   ]
  },
  {
   "cell_type": "code",
   "execution_count": 29,
   "metadata": {},
   "outputs": [
    {
     "data": {
      "image/png": "[encoded data removed]",
      "text/plain": [
       "<Figure size 1080x216 with 1 Axes>"
      ]
     },
     "metadata": {
      "needs_background": "light"
     },
     "output_type": "display_data"
    }
   ],
   "source": [
    "fig, ax = plt.subplots(nrows=1, ncols=1, figsize=[15,3])\n",
    "ax.plot(test_data.t_minutes[:1_000], label= 'test taxi_time')\n",
    "ax.plot(test_data.prediction[:1_000], label= model.name+' hourly_prediction')\n",
    "\n",
    "handles, labels = ax.get_legend_handles_labels()\n",
    "lgd = ax.legend(handles, labels, loc=2)"
   ]
  }
 ],
 "metadata": {
  "kernelspec": {
   "display_name": "Python 3",
   "language": "python",
   "name": "python3"
  },
  "language_info": {
   "codemirror_mode": {
    "name": "ipython",
    "version": 3
   },
   "file_extension": ".py",
   "mimetype": "text/x-python",
   "name": "python",
   "nbconvert_exporter": "python",
   "pygments_lexer": "ipython3",
   "version": "3.7.3"
  }
 },
 "nbformat": 4,
 "nbformat_minor": 2
}
