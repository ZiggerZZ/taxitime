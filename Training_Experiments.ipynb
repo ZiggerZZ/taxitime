{
  "nbformat": 4,
  "nbformat_minor": 0,
  "metadata": {
    "colab": {
      "name": "Training Experiments.ipynb",
      "provenance": [],
      "collapsed_sections": [],
      "include_colab_link": true
    },
    "kernelspec": {
      "name": "python3",
      "display_name": "Python 3"
    }
  },
  "cells": [
    {
      "cell_type": "markdown",
      "metadata": {
        "id": "view-in-github",
        "colab_type": "text"
      },
      "source": [
        "<a href=\"https://colab.research.google.com/github/ZiggerZZ/taxitime/blob/master/Training_Experiments.ipynb\" target=\"_parent\"><img src=\"https://colab.research.google.com/assets/colab-badge.svg\" alt=\"Open In Colab\"/></a>"
      ]
    },
    {
      "cell_type": "code",
      "metadata": {
        "id": "GE-wykwjuovM",
        "colab_type": "code",
        "colab": {}
      },
      "source": [
        "import pandas as pd\n",
        "import numpy as np\n",
        "from sklearn.ensemble import GradientBoostingRegressor, RandomForestRegressor\n",
        "from sklearn.linear_model import LinearRegression\n",
        "from sklearn.svm import SVR\n",
        "\n",
        "from sklearn.metrics import mean_squared_error\n",
        "from math import sqrt"
      ],
      "execution_count": 0,
      "outputs": []
    },
    {
      "cell_type": "markdown",
      "metadata": {
        "id": "pmeeuVfduhY0",
        "colab_type": "text"
      },
      "source": [
        "# Training"
      ]
    },
    {
      "cell_type": "code",
      "metadata": {
        "id": "ceKbZ584s2dN",
        "colab_type": "code",
        "colab": {}
      },
      "source": [
        "# read preprocessed data \n",
        "\n",
        "df = pd.read_csv('https://raw.githubusercontent.com/ZiggerZZ/taxitime/master/data/complete_data.csv')\n",
        "df.drop(['scheduled_time_off','estimated_inblock_time'],axis=1,inplace=True) # we can not use these columns"
      ],
      "execution_count": 0,
      "outputs": []
    },
    {
      "cell_type": "markdown",
      "metadata": {
        "id": "jmwK0-DtdZJi",
        "colab_type": "text"
      },
      "source": [
        "## Baseline"
      ]
    },
    {
      "cell_type": "code",
      "metadata": {
        "id": "EhY7dLY2-oqz",
        "colab_type": "code",
        "outputId": "7d0119f8-05c2-4b50-f297-e8acf9900686",
        "colab": {
          "base_uri": "https://localhost:8080/",
          "height": 35
        }
      },
      "source": [
        "df['moving_average'] = df.t_minutes.rolling(window=50000).mean() # 50000 rows correspond to approximately two months\n",
        "\n",
        "df_result = df.dropna(subset=['moving_average'])[['t_minutes','moving_average']]\n",
        "rmse_moving_average = sqrt(mean_squared_error(df_result['t_minutes'], df_result['moving_average']))\n",
        "print(rmse_moving_average)"
      ],
      "execution_count": 0,
      "outputs": [
        {
          "output_type": "stream",
          "text": [
            "4.657023285082811\n"
          ],
          "name": "stdout"
        }
      ]
    },
    {
      "cell_type": "markdown",
      "metadata": {
        "id": "WgSg7XOmddfV",
        "colab_type": "text"
      },
      "source": [
        "## Our models"
      ]
    },
    {
      "cell_type": "markdown",
      "metadata": {
        "id": "IVW9cekH-2O2",
        "colab_type": "text"
      },
      "source": [
        "### Utils"
      ]
    },
    {
      "cell_type": "code",
      "metadata": {
        "id": "pUb1KZdcffZ1",
        "colab_type": "code",
        "colab": {}
      },
      "source": [
        "def train_test(df, model_columns, categorical_columns, split = 0.8):\n",
        "  X = pd.get_dummies(df[model_columns], categorical_columns) # convert categoricals to numericals and keep numericals\n",
        "\n",
        "  num_train = int(split*X.shape[0]) # split %\n",
        "\n",
        "  X_train = X.iloc[:num_train].drop('t_minutes', axis = 1)\n",
        "  y_train = X.iloc[:num_train].t_minutes\n",
        "  X_test = X.iloc[num_train:].drop('t_minutes', axis = 1)\n",
        "  y_test = X.iloc[num_train:].t_minutes  \n",
        "  return X, X_train, y_train, X_test, y_test\n",
        "\n",
        "def rmse_model(model,X_train,y_train,X_test,y_test):\n",
        "  model.fit(X_train,y_train)\n",
        "  rmse_train = sqrt(mean_squared_error(y_train, model.predict(X_train)))\n",
        "  rmse_test = sqrt(mean_squared_error(y_test, model.predict(X_test)))\n",
        "  return rmse_train, rmse_test"
      ],
      "execution_count": 0,
      "outputs": []
    },
    {
      "cell_type": "markdown",
      "metadata": {
        "id": "z_ISs_Q_dhGj",
        "colab_type": "text"
      },
      "source": [
        "### All features"
      ]
    },
    {
      "cell_type": "code",
      "metadata": {
        "id": "YZnTzDWCuth8",
        "colab_type": "code",
        "colab": {}
      },
      "source": [
        "air_columns = ['carrier', 'runway']\n",
        "time_columns = ['week_of_year', 'day_of_week', 'minutes_of_day', 'minute_of_week', 'land_to_off', 't_minutes']\n",
        "traffic_columns = ['traffic_metric']\n",
        "size_columns = ['Approach Speed\\n(Vref)', 'MTOW', 'Max Ramp\\nMax Taxi', 'dim_proxy'] # []\n",
        "weather_columns = ['average_wind_speed', 'precipitation', 'average_temperature', 'direction_of_fastest_2_minute_wind', 'direction_of_fastest_5_second_wind', 'fastest_2_minute_wind_speed', 'fog,_ice_fog,_or_freezing_fog_(incl_heavy_fog)', 'heavy_fog_or_heaving_freezing_fog', 'thunder', 'smoke_or_haze']\n",
        "\n",
        "model_columns = air_columns + time_columns + traffic_columns + size_columns + weather_columns\n",
        "categorical_columns = ['carrier', 'runway', 'day_of_week']\n",
        "\n",
        "X, X_train, y_train, X_test, y_test = train_test(df, model_columns, categorical_columns)"
      ],
      "execution_count": 0,
      "outputs": []
    },
    {
      "cell_type": "code",
      "metadata": {
        "id": "_bD-ZNkjAvRx",
        "colab_type": "code",
        "outputId": "749d6143-7dc2-42c4-c13a-af5cd4c6432f",
        "colab": {
          "base_uri": "https://localhost:8080/",
          "height": 35
        }
      },
      "source": [
        "len(model_columns)"
      ],
      "execution_count": 0,
      "outputs": [
        {
          "output_type": "execute_result",
          "data": {
            "text/plain": [
              "23"
            ]
          },
          "metadata": {
            "tags": []
          },
          "execution_count": 97
        }
      ]
    },
    {
      "cell_type": "markdown",
      "metadata": {
        "id": "_h-1qq75SN19",
        "colab_type": "text"
      },
      "source": [
        "First we train on all features for all three models to get benchmark RMSEs  \n",
        "We use the feature importance generated from the gradient boosting model to find the best 10 upon which we will create feature sets.\n",
        "\n",
        "\n"
      ]
    },
    {
      "cell_type": "code",
      "metadata": {
        "id": "Kn1jfh5kANzL",
        "colab_type": "code",
        "outputId": "0a7c1652-a891-4555-f950-83a3f6ea82f9",
        "colab": {
          "base_uri": "https://localhost:8080/",
          "height": 175
        }
      },
      "source": [
        "for model in [('RF',RandomForestRegressor()), ('Linear',LinearRegression()), ('GB',GradientBoostingRegressor())]:\n",
        "  print(model[0])\n",
        "  rmse_score = rmse_model(model[1], X_train_feats, y_train_feats, X_test_feats, y_test_feats)\n",
        "  print(rmse_score)"
      ],
      "execution_count": 0,
      "outputs": [
        {
          "output_type": "stream",
          "text": [
            "RF\n"
          ],
          "name": "stdout"
        },
        {
          "output_type": "stream",
          "text": [
            "/usr/local/lib/python3.6/dist-packages/sklearn/ensemble/forest.py:245: FutureWarning: The default value of n_estimators will change from 10 in version 0.20 to 100 in 0.22.\n",
            "  \"10 in version 0.20 to 100 in 0.22.\", FutureWarning)\n"
          ],
          "name": "stderr"
        },
        {
          "output_type": "stream",
          "text": [
            "(1.7586042245077211, 4.9460890628319385)\n",
            "Linear\n",
            "(4.227043214427869, 4.274242023349024)\n",
            "GB\n",
            "(3.9073240693862963, 4.2138924843618515)\n"
          ],
          "name": "stdout"
        }
      ]
    },
    {
      "cell_type": "code",
      "metadata": {
        "id": "-aSmz5ZQyVHJ",
        "colab_type": "code",
        "outputId": "f7803555-d1b7-4630-8c3c-43228636e77b",
        "colab": {
          "base_uri": "https://localhost:8080/",
          "height": 575
        }
      },
      "source": [
        "model = GradientBoostingRegressor()\n",
        "print(rmse_model(model, X_train, y_train, X_test, y_test))\n",
        "feat_importances = pd.Series(model.feature_importances_, index=X.drop('t_minutes',axis=1).columns)\n",
        "feat_importances.nlargest(10).plot(kind='barh', figsize=(11,9))"
      ],
      "execution_count": 0,
      "outputs": [
        {
          "output_type": "stream",
          "text": [
            "(3.9006633120610106, 4.192176484648863)\n"
          ],
          "name": "stdout"
        },
        {
          "output_type": "execute_result",
          "data": {
            "text/plain": [
              "<matplotlib.axes._subplots.AxesSubplot at 0x7f7d9c1ce1d0>"
            ]
          },
          "metadata": {
            "tags": []
          },
          "execution_count": 73
        },
        {
          "output_type": "display_data",
          "data": {
            "image/png": "[encoded data removed]",
            "text/plain": [
              "<Figure size 792x648 with 1 Axes>"
            ]
          },
          "metadata": {
            "tags": []
          }
        }
      ]
    },
    {
      "cell_type": "markdown",
      "metadata": {
        "id": "WhIEpXLy2pGY",
        "colab_type": "text"
      },
      "source": [
        "### Important features\n",
        "\n",
        "As we can see from the plot above, not all features are important.\n",
        "We will retrain our model with increasing feature sets, starting with the most important feature **traffic metric** and adding the next important features one by one.\n"
      ]
    },
    {
      "cell_type": "code",
      "metadata": {
        "id": "ej9N5D9s2nTB",
        "colab_type": "code",
        "outputId": "dc175f92-ef6b-4034-9cd4-21435c13319d",
        "colab": {
          "base_uri": "https://localhost:8080/",
          "height": 1000
        }
      },
      "source": [
        " results = {i: [] for i in range(1,11)}\n",
        "\n",
        "feats = feat_importances.nlargest(10).keys()\n",
        "for i in range(1, len(feats) + 1):\n",
        "  print(i)\n",
        "  first_i_imp_feats = feats[0:i]\n",
        "  X_feats, X_train_feats, y_train_feats, X_test_feats, y_test_feats = \\\n",
        "  X[first_i_imp_feats], X_train[first_i_imp_feats], y_train, X_test[first_i_imp_feats], y_test\n",
        "  print(list(first_i_imp_feats))\n",
        "  \n",
        "  for model in [('RF',RandomForestRegressor()), ('Linear',LinearRegression()), ('GB',GradientBoostingRegressor())]:\n",
        "    print(model[0])\n",
        "    rmse_score = rmse_model(model[1], X_train_feats, y_train_feats, X_test_feats, y_test_feats)\n",
        "    print(rmse_score)\n",
        "    results[i].append(rmse_score[0])\n",
        "    results[i].append(rmse_score[1])\n",
        "    \n",
        "  print('--------')"
      ],
      "execution_count": 0,
      "outputs": [
        {
          "output_type": "stream",
          "text": [
            "1\n",
            "['traffic_metric']\n",
            "\t RF\n",
            "(4.355922436118786, 4.517353922109242)\n",
            "\t Linear\n",
            "(4.48533340890986, 4.525536548655984)\n",
            "\t GB\n"
          ],
          "name": "stdout"
        },
        {
          "output_type": "stream",
          "text": [
            "/usr/local/lib/python3.6/dist-packages/sklearn/ensemble/forest.py:245: FutureWarning: The default value of n_estimators will change from 10 in version 0.20 to 100 in 0.22.\n",
            "  \"10 in version 0.20 to 100 in 0.22.\", FutureWarning)\n"
          ],
          "name": "stderr"
        },
        {
          "output_type": "stream",
          "text": [
            "(4.35298136803555, 4.51741949817507)\n",
            "--------\n",
            "2\n",
            "['traffic_metric', 'runway_RUNWAY07']\n",
            "\t RF\n"
          ],
          "name": "stdout"
        },
        {
          "output_type": "stream",
          "text": [
            "/usr/local/lib/python3.6/dist-packages/sklearn/ensemble/forest.py:245: FutureWarning: The default value of n_estimators will change from 10 in version 0.20 to 100 in 0.22.\n",
            "  \"10 in version 0.20 to 100 in 0.22.\", FutureWarning)\n"
          ],
          "name": "stderr"
        },
        {
          "output_type": "stream",
          "text": [
            "(4.237277485613389, 4.427845703958297)\n",
            "\t Linear\n",
            "(4.393763640932437, 4.433636630816845)\n",
            "\t GB\n",
            "(4.241731049685323, 4.426817004222909)\n",
            "--------\n",
            "3\n",
            "['traffic_metric', 'runway_RUNWAY07', 'runway_RUNWAY08']\n",
            "\t RF\n"
          ],
          "name": "stdout"
        },
        {
          "output_type": "stream",
          "text": [
            "/usr/local/lib/python3.6/dist-packages/sklearn/ensemble/forest.py:245: FutureWarning: The default value of n_estimators will change from 10 in version 0.20 to 100 in 0.22.\n",
            "  \"10 in version 0.20 to 100 in 0.22.\", FutureWarning)\n"
          ],
          "name": "stderr"
        },
        {
          "output_type": "stream",
          "text": [
            "(4.110872719506539, 4.301551918863784)\n",
            "\t Linear\n",
            "(4.282977666761858, 4.31265811460228)\n",
            "\t GB\n",
            "(4.11935764478323, 4.30026206586646)\n",
            "--------\n",
            "4\n",
            "['traffic_metric', 'runway_RUNWAY07', 'runway_RUNWAY08', 'minutes_of_day']\n",
            "\t RF\n"
          ],
          "name": "stdout"
        },
        {
          "output_type": "stream",
          "text": [
            "/usr/local/lib/python3.6/dist-packages/sklearn/ensemble/forest.py:245: FutureWarning: The default value of n_estimators will change from 10 in version 0.20 to 100 in 0.22.\n",
            "  \"10 in version 0.20 to 100 in 0.22.\", FutureWarning)\n"
          ],
          "name": "stderr"
        },
        {
          "output_type": "stream",
          "text": [
            "(3.399344814007304, 4.80463664713814)\n",
            "\t Linear\n",
            "(4.262542026925698, 4.288432153384788)\n",
            "\t GB\n",
            "(3.9924481939157426, 4.248627680871162)\n",
            "--------\n",
            "5\n",
            "['traffic_metric', 'runway_RUNWAY07', 'runway_RUNWAY08', 'minutes_of_day', 'runway_RUNWAY09']\n",
            "\t RF\n"
          ],
          "name": "stdout"
        },
        {
          "output_type": "stream",
          "text": [
            "/usr/local/lib/python3.6/dist-packages/sklearn/ensemble/forest.py:245: FutureWarning: The default value of n_estimators will change from 10 in version 0.20 to 100 in 0.22.\n",
            "  \"10 in version 0.20 to 100 in 0.22.\", FutureWarning)\n"
          ],
          "name": "stderr"
        },
        {
          "output_type": "stream",
          "text": [
            "(3.199761659444282, 4.876014335394993)\n",
            "\t Linear\n",
            "(4.240952704850273, 4.264354695346473)\n",
            "\t GB\n",
            "(3.965704635945305, 4.217691297660148)\n",
            "--------\n",
            "6\n",
            "['traffic_metric', 'runway_RUNWAY07', 'runway_RUNWAY08', 'minutes_of_day', 'runway_RUNWAY09', 'minute_of_week']\n",
            "\t RF\n"
          ],
          "name": "stdout"
        },
        {
          "output_type": "stream",
          "text": [
            "/usr/local/lib/python3.6/dist-packages/sklearn/ensemble/forest.py:245: FutureWarning: The default value of n_estimators will change from 10 in version 0.20 to 100 in 0.22.\n",
            "  \"10 in version 0.20 to 100 in 0.22.\", FutureWarning)\n"
          ],
          "name": "stderr"
        },
        {
          "output_type": "stream",
          "text": [
            "(2.3692658197328567, 4.849026251058254)\n",
            "\t Linear\n",
            "(4.2409291201970705, 4.264830486673306)\n",
            "\t GB\n",
            "(3.961980509539437, 4.217828748144534)\n",
            "--------\n",
            "7\n",
            "['traffic_metric', 'runway_RUNWAY07', 'runway_RUNWAY08', 'minutes_of_day', 'runway_RUNWAY09', 'minute_of_week', 'precipitation']\n",
            "\t RF\n"
          ],
          "name": "stdout"
        },
        {
          "output_type": "stream",
          "text": [
            "/usr/local/lib/python3.6/dist-packages/sklearn/ensemble/forest.py:245: FutureWarning: The default value of n_estimators will change from 10 in version 0.20 to 100 in 0.22.\n",
            "  \"10 in version 0.20 to 100 in 0.22.\", FutureWarning)\n"
          ],
          "name": "stderr"
        },
        {
          "output_type": "stream",
          "text": [
            "(2.067061922995632, 4.734401087665008)\n",
            "\t Linear\n",
            "(4.2352496191735876, 4.257018525880936)\n",
            "\t GB\n",
            "(3.947615852652035, 4.216822508530218)\n",
            "--------\n",
            "8\n",
            "['traffic_metric', 'runway_RUNWAY07', 'runway_RUNWAY08', 'minutes_of_day', 'runway_RUNWAY09', 'minute_of_week', 'precipitation', 'land_to_off']\n",
            "\t RF\n"
          ],
          "name": "stdout"
        },
        {
          "output_type": "stream",
          "text": [
            "/usr/local/lib/python3.6/dist-packages/sklearn/ensemble/forest.py:245: FutureWarning: The default value of n_estimators will change from 10 in version 0.20 to 100 in 0.22.\n",
            "  \"10 in version 0.20 to 100 in 0.22.\", FutureWarning)\n"
          ],
          "name": "stderr"
        },
        {
          "output_type": "stream",
          "text": [
            "(1.8169493707170876, 4.674403658376722)\n",
            "\t Linear\n",
            "(4.233705694689888, 4.259286665266238)\n",
            "\t GB\n",
            "(3.9408208153278976, 4.2079434578854205)\n",
            "--------\n",
            "9\n",
            "['traffic_metric', 'runway_RUNWAY07', 'runway_RUNWAY08', 'minutes_of_day', 'runway_RUNWAY09', 'minute_of_week', 'precipitation', 'land_to_off', 'week_of_year']\n",
            "\t RF\n"
          ],
          "name": "stdout"
        },
        {
          "output_type": "stream",
          "text": [
            "/usr/local/lib/python3.6/dist-packages/sklearn/ensemble/forest.py:245: FutureWarning: The default value of n_estimators will change from 10 in version 0.20 to 100 in 0.22.\n",
            "  \"10 in version 0.20 to 100 in 0.22.\", FutureWarning)\n"
          ],
          "name": "stderr"
        },
        {
          "output_type": "stream",
          "text": [
            "(1.796873157153402, 5.08104960981001)\n",
            "\t Linear\n",
            "(4.233174323260978, 4.271920111050988)\n",
            "\t GB\n",
            "(3.937688446781077, 4.236125109383013)\n",
            "--------\n",
            "10\n",
            "['traffic_metric', 'runway_RUNWAY07', 'runway_RUNWAY08', 'minutes_of_day', 'runway_RUNWAY09', 'minute_of_week', 'precipitation', 'land_to_off', 'week_of_year', 'Max Ramp\\nMax Taxi']\n",
            "\t RF\n"
          ],
          "name": "stdout"
        },
        {
          "output_type": "stream",
          "text": [
            "/usr/local/lib/python3.6/dist-packages/sklearn/ensemble/forest.py:245: FutureWarning: The default value of n_estimators will change from 10 in version 0.20 to 100 in 0.22.\n",
            "  \"10 in version 0.20 to 100 in 0.22.\", FutureWarning)\n"
          ],
          "name": "stderr"
        },
        {
          "output_type": "stream",
          "text": [
            "(1.7861242388599474, 4.911313852474273)\n",
            "\t Linear\n",
            "(4.227043214427869, 4.274242023349024)\n",
            "\t GB\n",
            "(3.9073240693862963, 4.2138924843618515)\n",
            "--------\n"
          ],
          "name": "stdout"
        }
      ]
    },
    {
      "cell_type": "markdown",
      "metadata": {
        "id": "lUheXr-1TQ2d",
        "colab_type": "text"
      },
      "source": [
        "Below are our results, on the y axis is the number of features. The Columns represent the train and test RMSEs:  \n",
        "0: Random Forest Train RMSE  \n",
        "1: Random Forest Test RMSE  \n",
        "2: Linear Regression Train RMSE  \n",
        "3: Linear Regression Test RMSE  \n",
        "4: Gradient Boosting Regression Train RMSE  \n",
        "5: Gradient Boosting Regression Test RMSE  "
      ]
    },
    {
      "cell_type": "code",
      "metadata": {
        "id": "ktZV-_TD8rfc",
        "colab_type": "code",
        "outputId": "b658e9f2-b6d0-4946-d6ed-3ecbcccd3c6a",
        "colab": {
          "base_uri": "https://localhost:8080/",
          "height": 348
        }
      },
      "source": [
        "pd.set_option(\"display.precision\", 2)\n",
        "pd.DataFrame(results).T"
      ],
      "execution_count": 0,
      "outputs": [
        {
          "output_type": "execute_result",
          "data": {
            "text/html": [
              "<div>\n",
              "<style scoped>\n",
              "    .dataframe tbody tr th:only-of-type {\n",
              "        vertical-align: middle;\n",
              "    }\n",
              "\n",
              "    .dataframe tbody tr th {\n",
              "        vertical-align: top;\n",
              "    }\n",
              "\n",
              "    .dataframe thead th {\n",
              "        text-align: right;\n",
              "    }\n",
              "</style>\n",
              "<table border=\"1\" class=\"dataframe\">\n",
              "  <thead>\n",
              "    <tr style=\"text-align: right;\">\n",
              "      <th></th>\n",
              "      <th>0</th>\n",
              "      <th>1</th>\n",
              "      <th>2</th>\n",
              "      <th>3</th>\n",
              "      <th>4</th>\n",
              "      <th>5</th>\n",
              "    </tr>\n",
              "  </thead>\n",
              "  <tbody>\n",
              "    <tr>\n",
              "      <th>1</th>\n",
              "      <td>4.36</td>\n",
              "      <td>4.52</td>\n",
              "      <td>4.49</td>\n",
              "      <td>4.53</td>\n",
              "      <td>4.35</td>\n",
              "      <td>4.52</td>\n",
              "    </tr>\n",
              "    <tr>\n",
              "      <th>2</th>\n",
              "      <td>4.24</td>\n",
              "      <td>4.43</td>\n",
              "      <td>4.39</td>\n",
              "      <td>4.43</td>\n",
              "      <td>4.24</td>\n",
              "      <td>4.43</td>\n",
              "    </tr>\n",
              "    <tr>\n",
              "      <th>3</th>\n",
              "      <td>4.11</td>\n",
              "      <td>4.30</td>\n",
              "      <td>4.28</td>\n",
              "      <td>4.31</td>\n",
              "      <td>4.12</td>\n",
              "      <td>4.30</td>\n",
              "    </tr>\n",
              "    <tr>\n",
              "      <th>4</th>\n",
              "      <td>3.40</td>\n",
              "      <td>4.80</td>\n",
              "      <td>4.26</td>\n",
              "      <td>4.29</td>\n",
              "      <td>3.99</td>\n",
              "      <td>4.25</td>\n",
              "    </tr>\n",
              "    <tr>\n",
              "      <th>5</th>\n",
              "      <td>3.20</td>\n",
              "      <td>4.88</td>\n",
              "      <td>4.24</td>\n",
              "      <td>4.26</td>\n",
              "      <td>3.97</td>\n",
              "      <td>4.22</td>\n",
              "    </tr>\n",
              "    <tr>\n",
              "      <th>6</th>\n",
              "      <td>2.37</td>\n",
              "      <td>4.85</td>\n",
              "      <td>4.24</td>\n",
              "      <td>4.26</td>\n",
              "      <td>3.96</td>\n",
              "      <td>4.22</td>\n",
              "    </tr>\n",
              "    <tr>\n",
              "      <th>7</th>\n",
              "      <td>2.07</td>\n",
              "      <td>4.73</td>\n",
              "      <td>4.24</td>\n",
              "      <td>4.26</td>\n",
              "      <td>3.95</td>\n",
              "      <td>4.22</td>\n",
              "    </tr>\n",
              "    <tr>\n",
              "      <th>8</th>\n",
              "      <td>1.82</td>\n",
              "      <td>4.67</td>\n",
              "      <td>4.23</td>\n",
              "      <td>4.26</td>\n",
              "      <td>3.94</td>\n",
              "      <td>4.21</td>\n",
              "    </tr>\n",
              "    <tr>\n",
              "      <th>9</th>\n",
              "      <td>1.80</td>\n",
              "      <td>5.08</td>\n",
              "      <td>4.23</td>\n",
              "      <td>4.27</td>\n",
              "      <td>3.94</td>\n",
              "      <td>4.24</td>\n",
              "    </tr>\n",
              "    <tr>\n",
              "      <th>10</th>\n",
              "      <td>1.79</td>\n",
              "      <td>4.91</td>\n",
              "      <td>4.23</td>\n",
              "      <td>4.27</td>\n",
              "      <td>3.91</td>\n",
              "      <td>4.21</td>\n",
              "    </tr>\n",
              "  </tbody>\n",
              "</table>\n",
              "</div>"
            ],
            "text/plain": [
              "       0     1     2     3     4     5\n",
              "1   4.36  4.52  4.49  4.53  4.35  4.52\n",
              "2   4.24  4.43  4.39  4.43  4.24  4.43\n",
              "3   4.11  4.30  4.28  4.31  4.12  4.30\n",
              "4   3.40  4.80  4.26  4.29  3.99  4.25\n",
              "5   3.20  4.88  4.24  4.26  3.97  4.22\n",
              "6   2.37  4.85  4.24  4.26  3.96  4.22\n",
              "7   2.07  4.73  4.24  4.26  3.95  4.22\n",
              "8   1.82  4.67  4.23  4.26  3.94  4.21\n",
              "9   1.80  5.08  4.23  4.27  3.94  4.24\n",
              "10  1.79  4.91  4.23  4.27  3.91  4.21"
            ]
          },
          "metadata": {
            "tags": []
          },
          "execution_count": 94
        }
      ]
    },
    {
      "cell_type": "markdown",
      "metadata": {
        "id": "1ZAORzLz7mVg",
        "colab_type": "text"
      },
      "source": [
        "### Residuals"
      ]
    },
    {
      "cell_type": "code",
      "metadata": {
        "id": "o_HPI-kDYFNB",
        "colab_type": "code",
        "colab": {}
      },
      "source": [
        "model = GradientBoostingRegressor()\n",
        "model.fit(X_train,y_train)\n",
        "y_train_pred = model.predict(X_train)\n",
        "train_errors = (y_train - y_train_pred)\n",
        "mse_train = mean_squared_error(y_train, model.predict(X_train))\n",
        "y_test_pred = model.predict(X_test)\n",
        "test_errors = (y_test - y_test_pred)\n",
        "mse_test = mean_squared_error(y_test, model.predict(X_test))"
      ],
      "execution_count": 0,
      "outputs": []
    },
    {
      "cell_type": "code",
      "metadata": {
        "id": "wHQdoQVbYxxK",
        "colab_type": "code",
        "colab": {}
      },
      "source": [
        "from matplotlib.pyplot import hist\n",
        "%matplotlib inline"
      ],
      "execution_count": 0,
      "outputs": []
    },
    {
      "cell_type": "code",
      "metadata": {
        "id": "73EXKOU-ZjXT",
        "colab_type": "code",
        "outputId": "420efee9-aead-4e1a-ac93-881f8cae5d7e",
        "colab": {
          "base_uri": "https://localhost:8080/",
          "height": 558
        }
      },
      "source": [
        "test_errors.hist(bins=100, figsize=(11,9))"
      ],
      "execution_count": 0,
      "outputs": [
        {
          "output_type": "execute_result",
          "data": {
            "text/plain": [
              "<matplotlib.axes._subplots.AxesSubplot at 0x7f7d9fc92d68>"
            ]
          },
          "metadata": {
            "tags": []
          },
          "execution_count": 42
        },
        {
          "output_type": "display_data",
          "data": {
            "image/png": "[encoded data removed]",
            "text/plain": [
              "<Figure size 792x648 with 1 Axes>"
            ]
          },
          "metadata": {
            "tags": []
          }
        }
      ]
    },
    {
      "cell_type": "markdown",
      "metadata": {
        "id": "nEta9cHKNqpw",
        "colab_type": "text"
      },
      "source": [
        "### Test data"
      ]
    },
    {
      "cell_type": "code",
      "metadata": {
        "id": "PXkt1K8-NpA9",
        "colab_type": "code",
        "colab": {}
      },
      "source": [
        "df_test = pd.read_csv('https://raw.githubusercontent.com/ZiggerZZ/taxitime/master/data/test_complete_data.csv')\n",
        "df_test.drop(['scheduled_time_off','estimated_inblock_time'],axis=1,inplace=True) # we can not use these columns"
      ],
      "execution_count": 0,
      "outputs": []
    },
    {
      "cell_type": "code",
      "metadata": {
        "id": "QQGKQ3lBOV4q",
        "colab_type": "code",
        "colab": {}
      },
      "source": [
        "features5 = ['traffic_metric', 'runway_RUNWAY07', 'runway_RUNWAY08', 'minutes_of_day', 'runway_RUNWAY09', 't_minutes']\n",
        "\n",
        "X = pd.get_dummies(df[model_columns], categorical_columns) # convert categoricals to numericals and keep numericals\n",
        "X_test_eleven = pd.get_dummies(df_test[model_columns], categorical_columns)\n",
        "\n",
        "\n",
        "X_train = X[features5].drop('t_minutes', axis = 1)\n",
        "y_train = X.t_minutes\n",
        "X_test = X_test_eleven[features5].drop('t_minutes', axis = 1)\n",
        "y_test = X_test_eleven.t_minutes  "
      ],
      "execution_count": 0,
      "outputs": []
    },
    {
      "cell_type": "markdown",
      "metadata": {
        "id": "0YgT5YPvTp0f",
        "colab_type": "text"
      },
      "source": [
        "**Test data RMSE**  \n",
        "\n",
        "Run on the best model Gradient Boosting with 5 features\n"
      ]
    },
    {
      "cell_type": "code",
      "metadata": {
        "id": "8lvnlmF6QHaA",
        "colab_type": "code",
        "outputId": "31fa0f28-333f-425b-edda-0d1e5dace329",
        "colab": {
          "base_uri": "https://localhost:8080/",
          "height": 35
        }
      },
      "source": [
        "model = GradientBoostingRegressor()\n",
        "rmse_score = rmse_model(model, X_train, y_train, X_test, y_test)\n",
        "print(rmse_score)"
      ],
      "execution_count": 0,
      "outputs": [
        {
          "output_type": "stream",
          "text": [
            "(4.014211924154692, 4.501806963662729)\n"
          ],
          "name": "stdout"
        }
      ]
    }
  ]
}