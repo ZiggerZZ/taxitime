{
 "cells": [
  {
   "cell_type": "markdown",
   "metadata": {},
   "source": [
    "## Experiment tracking\n",
    "\n",
    "(Example)\n",
    "\n",
    "| ID | Data | Pre | Seperation Date | Algorithm | RMSLE Train | RMSLE Test | Code | Comments |\n",
    "|---|---|---|---|---|---|---|---|---|\n",
    "| 0 | gdsc2_public.csv | Standard | 01.01.2018 | Median | 1.62 | 2.10 | [Link](http://de-mucingode1/gitlab/dkuehlwein/global_data_science_challenge_2_public/tags/Baselines) | Baseline |\n",
    "| 1 | gdsc2_public.csv | One-Hot-Encoding of 'work_type', 'work_priority' | 01.01.2018 | KNNRegressor (Default) | 1.99 | 1.49 | [Link](http://de-mucingode1/gitlab/dkuehlwein/global_data_science_challenge_2_public/tags/Baselines) | Performs worse than baseline on training. Model is not complex enough, need to check train/test split | "
   ]
  },
  {
   "cell_type": "code",
   "execution_count": 151,
   "metadata": {},
   "outputs": [],
   "source": [
    "import pandas as pd\n",
    "import numpy as np\n",
    "pd.set_option('display.max_columns', 30)"
   ]
  },
  {
   "cell_type": "code",
   "execution_count": 152,
   "metadata": {},
   "outputs": [],
   "source": [
    "df = pd.read_csv('Taxi-time Prediction Data/0. Airport data/Airport_Data.csv')"
   ]
  },
  {
   "cell_type": "code",
   "execution_count": 153,
   "metadata": {},
   "outputs": [],
   "source": [
    "not_used = [x.lower() for x in ['mode_s'\n",
    ",'Status'\n",
    ",'sqt'\n",
    ",'Stand_last_change'\n",
    ",'Stand_scheduled'\n",
    ",'aldt_received'\n",
    ",'Stand_prepared'\n",
    ",'Stand_auto_start'\n",
    ",'Stand_active'\n",
    ",'Stand_docking'\n",
    ",'aibt_received'\n",
    ",'vdgs_in'\n",
    ",'plb_on'\n",
    ",'pca_on'\n",
    ",'gpu_on'\n",
    ",'towbar_on'\n",
    ",'pca_off'\n",
    ",'gpu_off'\n",
    ",'acars_out'\n",
    ",'vdgs_out'\n",
    ",'Stand_free'\n",
    ",'roll'\n",
    ",'speed'\n",
    ",'last_distance_to_gate'\n",
    ",'last_in_sector']]\n",
    "df = df[[x for x in df.columns if x not in not_used]]\n",
    "df = df[df['aibt'] != 'aibt'] # drop 159 weird rows\n",
    "df = df.dropna(subset=['aldt','aibt']) # drop NA for arrival and block time "
   ]
  },
  {
   "cell_type": "code",
   "execution_count": 154,
   "metadata": {},
   "outputs": [
    {
     "data": {
      "text/html": [
       "<div>\n",
       "<style scoped>\n",
       "    .dataframe tbody tr th:only-of-type {\n",
       "        vertical-align: middle;\n",
       "    }\n",
       "\n",
       "    .dataframe tbody tr th {\n",
       "        vertical-align: top;\n",
       "    }\n",
       "\n",
       "    .dataframe thead th {\n",
       "        text-align: right;\n",
       "    }\n",
       "</style>\n",
       "<table border=\"1\" class=\"dataframe\">\n",
       "  <thead>\n",
       "    <tr style=\"text-align: right;\">\n",
       "      <th></th>\n",
       "      <th>partition</th>\n",
       "      <th>carrier</th>\n",
       "      <th>flight</th>\n",
       "      <th>acType</th>\n",
       "      <th>acReg</th>\n",
       "      <th>ship</th>\n",
       "      <th>sto</th>\n",
       "      <th>runway</th>\n",
       "      <th>stand</th>\n",
       "      <th>aldt</th>\n",
       "      <th>eibt</th>\n",
       "      <th>cibt</th>\n",
       "      <th>aibt</th>\n",
       "      <th>chocks_on</th>\n",
       "      <th>plb_off</th>\n",
       "      <th>eobt</th>\n",
       "      <th>aobt</th>\n",
       "      <th>atot</th>\n",
       "    </tr>\n",
       "  </thead>\n",
       "  <tbody>\n",
       "    <tr>\n",
       "      <th>count</th>\n",
       "      <td>137992</td>\n",
       "      <td>137992</td>\n",
       "      <td>137992</td>\n",
       "      <td>137990</td>\n",
       "      <td>137990</td>\n",
       "      <td>137990</td>\n",
       "      <td>137992</td>\n",
       "      <td>134509</td>\n",
       "      <td>137992</td>\n",
       "      <td>137992</td>\n",
       "      <td>137992</td>\n",
       "      <td>134494</td>\n",
       "      <td>137992</td>\n",
       "      <td>109782</td>\n",
       "      <td>0.0</td>\n",
       "      <td>0.0</td>\n",
       "      <td>0.0</td>\n",
       "      <td>0.0</td>\n",
       "    </tr>\n",
       "    <tr>\n",
       "      <th>unique</th>\n",
       "      <td>1</td>\n",
       "      <td>5</td>\n",
       "      <td>3608</td>\n",
       "      <td>36</td>\n",
       "      <td>1207</td>\n",
       "      <td>1183</td>\n",
       "      <td>79813</td>\n",
       "      <td>10</td>\n",
       "      <td>160</td>\n",
       "      <td>100001</td>\n",
       "      <td>90630</td>\n",
       "      <td>88535</td>\n",
       "      <td>90525</td>\n",
       "      <td>77737</td>\n",
       "      <td>0.0</td>\n",
       "      <td>0.0</td>\n",
       "      <td>0.0</td>\n",
       "      <td>0.0</td>\n",
       "    </tr>\n",
       "    <tr>\n",
       "      <th>top</th>\n",
       "      <td>AP</td>\n",
       "      <td>CAR1</td>\n",
       "      <td>2410</td>\n",
       "      <td>MD88</td>\n",
       "      <td>N998DL</td>\n",
       "      <td>913</td>\n",
       "      <td>8/20/2018 1:45</td>\n",
       "      <td>RUNWAY09</td>\n",
       "      <td>STAND13</td>\n",
       "      <td>1/5/2019 0:05</td>\n",
       "      <td>9/26/2018 1:50</td>\n",
       "      <td>12/13/2018 1:17</td>\n",
       "      <td>11/30/2018 19:09</td>\n",
       "      <td>12/13/2018 1:18</td>\n",
       "      <td>NaN</td>\n",
       "      <td>NaN</td>\n",
       "      <td>NaN</td>\n",
       "      <td>NaN</td>\n",
       "    </tr>\n",
       "    <tr>\n",
       "      <th>freq</th>\n",
       "      <td>137992</td>\n",
       "      <td>112280</td>\n",
       "      <td>152</td>\n",
       "      <td>36965</td>\n",
       "      <td>439</td>\n",
       "      <td>584</td>\n",
       "      <td>15</td>\n",
       "      <td>32830</td>\n",
       "      <td>1286</td>\n",
       "      <td>4</td>\n",
       "      <td>15</td>\n",
       "      <td>8</td>\n",
       "      <td>8</td>\n",
       "      <td>8</td>\n",
       "      <td>NaN</td>\n",
       "      <td>NaN</td>\n",
       "      <td>NaN</td>\n",
       "      <td>NaN</td>\n",
       "    </tr>\n",
       "  </tbody>\n",
       "</table>\n",
       "</div>"
      ],
      "text/plain": [
       "       partition carrier  flight  acType   acReg    ship             sto  \\\n",
       "count     137992  137992  137992  137990  137990  137990          137992   \n",
       "unique         1       5    3608      36    1207    1183           79813   \n",
       "top           AP    CAR1    2410    MD88  N998DL     913  8/20/2018 1:45   \n",
       "freq      137992  112280     152   36965     439     584              15   \n",
       "\n",
       "          runway    stand           aldt            eibt             cibt  \\\n",
       "count     134509   137992         137992          137992           134494   \n",
       "unique        10      160         100001           90630            88535   \n",
       "top     RUNWAY09  STAND13  1/5/2019 0:05  9/26/2018 1:50  12/13/2018 1:17   \n",
       "freq       32830     1286              4              15                8   \n",
       "\n",
       "                    aibt        chocks_on  plb_off  eobt  aobt  atot  \n",
       "count             137992           109782      0.0   0.0   0.0   0.0  \n",
       "unique             90525            77737      0.0   0.0   0.0   0.0  \n",
       "top     11/30/2018 19:09  12/13/2018 1:18      NaN   NaN   NaN   NaN  \n",
       "freq                   8                8      NaN   NaN   NaN   NaN  "
      ]
     },
     "execution_count": 154,
     "metadata": {},
     "output_type": "execute_result"
    }
   ],
   "source": [
    "df.describe()"
   ]
  },
  {
   "cell_type": "code",
   "execution_count": 155,
   "metadata": {},
   "outputs": [
    {
     "data": {
      "text/html": [
       "<div>\n",
       "<style scoped>\n",
       "    .dataframe tbody tr th:only-of-type {\n",
       "        vertical-align: middle;\n",
       "    }\n",
       "\n",
       "    .dataframe tbody tr th {\n",
       "        vertical-align: top;\n",
       "    }\n",
       "\n",
       "    .dataframe thead th {\n",
       "        text-align: right;\n",
       "    }\n",
       "</style>\n",
       "<table border=\"1\" class=\"dataframe\">\n",
       "  <thead>\n",
       "    <tr style=\"text-align: right;\">\n",
       "      <th></th>\n",
       "      <th>partition</th>\n",
       "      <th>carrier</th>\n",
       "      <th>flight</th>\n",
       "      <th>acType</th>\n",
       "      <th>acReg</th>\n",
       "      <th>ship</th>\n",
       "      <th>sto</th>\n",
       "      <th>runway</th>\n",
       "      <th>stand</th>\n",
       "      <th>aldt</th>\n",
       "      <th>eibt</th>\n",
       "      <th>cibt</th>\n",
       "      <th>aibt</th>\n",
       "      <th>chocks_on</th>\n",
       "      <th>plb_off</th>\n",
       "      <th>eobt</th>\n",
       "      <th>aobt</th>\n",
       "      <th>atot</th>\n",
       "    </tr>\n",
       "  </thead>\n",
       "  <tbody>\n",
       "    <tr>\n",
       "      <th>4</th>\n",
       "      <td>AP</td>\n",
       "      <td>CAR1</td>\n",
       "      <td>2519</td>\n",
       "      <td>B737/9-WL</td>\n",
       "      <td>N845DN</td>\n",
       "      <td>3845</td>\n",
       "      <td>7/30/2018 4:45</td>\n",
       "      <td>RUNWAY02</td>\n",
       "      <td>STAND04</td>\n",
       "      <td>7/30/2018 4:25</td>\n",
       "      <td>7/30/2018 4:33</td>\n",
       "      <td>7/30/2018 4:33</td>\n",
       "      <td>7/30/2018 4:29</td>\n",
       "      <td>7/30/2018 4:30</td>\n",
       "      <td>NaN</td>\n",
       "      <td>NaN</td>\n",
       "      <td>NaN</td>\n",
       "      <td>NaN</td>\n",
       "    </tr>\n",
       "    <tr>\n",
       "      <th>7</th>\n",
       "      <td>AP</td>\n",
       "      <td>CAR1</td>\n",
       "      <td>1757</td>\n",
       "      <td>B757/2-WL</td>\n",
       "      <td>N555NW</td>\n",
       "      <td>5655</td>\n",
       "      <td>7/30/2018 8:53</td>\n",
       "      <td>RUNWAY02</td>\n",
       "      <td>STAND07</td>\n",
       "      <td>7/30/2018 8:14</td>\n",
       "      <td>7/30/2018 8:19</td>\n",
       "      <td>7/30/2018 8:18</td>\n",
       "      <td>7/30/2018 8:18</td>\n",
       "      <td>7/30/2018 8:19</td>\n",
       "      <td>NaN</td>\n",
       "      <td>NaN</td>\n",
       "      <td>NaN</td>\n",
       "      <td>NaN</td>\n",
       "    </tr>\n",
       "    <tr>\n",
       "      <th>8</th>\n",
       "      <td>AP</td>\n",
       "      <td>CAR1</td>\n",
       "      <td>1636</td>\n",
       "      <td>A321/2</td>\n",
       "      <td>N311DN</td>\n",
       "      <td>3011</td>\n",
       "      <td>7/30/2018 8:49</td>\n",
       "      <td>RUNWAY01</td>\n",
       "      <td>STAND08</td>\n",
       "      <td>7/30/2018 8:26</td>\n",
       "      <td>7/30/2018 8:31</td>\n",
       "      <td>7/30/2018 8:32</td>\n",
       "      <td>7/30/2018 8:29</td>\n",
       "      <td>7/30/2018 8:30</td>\n",
       "      <td>NaN</td>\n",
       "      <td>NaN</td>\n",
       "      <td>NaN</td>\n",
       "      <td>NaN</td>\n",
       "    </tr>\n",
       "    <tr>\n",
       "      <th>9</th>\n",
       "      <td>AP</td>\n",
       "      <td>CAR1</td>\n",
       "      <td>2048</td>\n",
       "      <td>B737/9-WL</td>\n",
       "      <td>N813DN</td>\n",
       "      <td>3813</td>\n",
       "      <td>7/30/2018 8:56</td>\n",
       "      <td>RUNWAY02</td>\n",
       "      <td>STAND09</td>\n",
       "      <td>7/30/2018 8:42</td>\n",
       "      <td>7/30/2018 8:47</td>\n",
       "      <td>7/30/2018 8:45</td>\n",
       "      <td>7/30/2018 8:46</td>\n",
       "      <td>NaN</td>\n",
       "      <td>NaN</td>\n",
       "      <td>NaN</td>\n",
       "      <td>NaN</td>\n",
       "      <td>NaN</td>\n",
       "    </tr>\n",
       "    <tr>\n",
       "      <th>11</th>\n",
       "      <td>AP</td>\n",
       "      <td>CAR1</td>\n",
       "      <td>2510</td>\n",
       "      <td>A321/2</td>\n",
       "      <td>N348DN</td>\n",
       "      <td>3048</td>\n",
       "      <td>7/30/2018 9:14</td>\n",
       "      <td>RUNWAY02</td>\n",
       "      <td>STAND11</td>\n",
       "      <td>7/30/2018 8:52</td>\n",
       "      <td>7/30/2018 8:57</td>\n",
       "      <td>7/30/2018 8:57</td>\n",
       "      <td>7/30/2018 8:57</td>\n",
       "      <td>7/30/2018 8:58</td>\n",
       "      <td>NaN</td>\n",
       "      <td>NaN</td>\n",
       "      <td>NaN</td>\n",
       "      <td>NaN</td>\n",
       "    </tr>\n",
       "  </tbody>\n",
       "</table>\n",
       "</div>"
      ],
      "text/plain": [
       "   partition carrier flight     acType   acReg  ship             sto  \\\n",
       "4         AP    CAR1   2519  B737/9-WL  N845DN  3845  7/30/2018 4:45   \n",
       "7         AP    CAR1   1757  B757/2-WL  N555NW  5655  7/30/2018 8:53   \n",
       "8         AP    CAR1   1636     A321/2  N311DN  3011  7/30/2018 8:49   \n",
       "9         AP    CAR1   2048  B737/9-WL  N813DN  3813  7/30/2018 8:56   \n",
       "11        AP    CAR1   2510     A321/2  N348DN  3048  7/30/2018 9:14   \n",
       "\n",
       "      runway    stand            aldt            eibt            cibt  \\\n",
       "4   RUNWAY02  STAND04  7/30/2018 4:25  7/30/2018 4:33  7/30/2018 4:33   \n",
       "7   RUNWAY02  STAND07  7/30/2018 8:14  7/30/2018 8:19  7/30/2018 8:18   \n",
       "8   RUNWAY01  STAND08  7/30/2018 8:26  7/30/2018 8:31  7/30/2018 8:32   \n",
       "9   RUNWAY02  STAND09  7/30/2018 8:42  7/30/2018 8:47  7/30/2018 8:45   \n",
       "11  RUNWAY02  STAND11  7/30/2018 8:52  7/30/2018 8:57  7/30/2018 8:57   \n",
       "\n",
       "              aibt       chocks_on plb_off eobt aobt atot  \n",
       "4   7/30/2018 4:29  7/30/2018 4:30     NaN  NaN  NaN  NaN  \n",
       "7   7/30/2018 8:18  7/30/2018 8:19     NaN  NaN  NaN  NaN  \n",
       "8   7/30/2018 8:29  7/30/2018 8:30     NaN  NaN  NaN  NaN  \n",
       "9   7/30/2018 8:46             NaN     NaN  NaN  NaN  NaN  \n",
       "11  7/30/2018 8:57  7/30/2018 8:58     NaN  NaN  NaN  NaN  "
      ]
     },
     "execution_count": 155,
     "metadata": {},
     "output_type": "execute_result"
    }
   ],
   "source": [
    "df.head()"
   ]
  },
  {
   "cell_type": "code",
   "execution_count": 156,
   "metadata": {},
   "outputs": [],
   "source": [
    "def split_date_time(dt):\n",
    "    date, time = dt.split()\n",
    "    month, day, year = date.split('/')\n",
    "    hour, minute = time.split(':')\n",
    "    return pd.Timestamp(year=int(year), month=int(month), day=int(day), hour=int(hour), minute=int(minute))\n",
    "df['landing_time'] = df.aldt.apply(split_date_time)\n",
    "df['block_time'] = df.aibt.apply(split_date_time)\n",
    "#df['calculated_time'] = df.cibt.apply(split_date_time)\n",
    "#df['estimated_time'] = df.eibt.apply(split_date_time)\n",
    "df = df.drop(['aldt','aibt'], axis=1) # ,'cibt','eibt'\n",
    "df['t'] = df['block_time'] - df['landing_time']\n",
    "df['t_minutes'] = df['t'].apply(lambda x: x.seconds/60)"
   ]
  },
  {
   "cell_type": "code",
   "execution_count": 157,
   "metadata": {},
   "outputs": [],
   "source": [
    "df = df[df.t_minutes < 200]"
   ]
  },
  {
   "cell_type": "code",
   "execution_count": 158,
   "metadata": {},
   "outputs": [],
   "source": [
    "df['date'] = df.landing_time.dt.date"
   ]
  },
  {
   "cell_type": "code",
   "execution_count": 159,
   "metadata": {},
   "outputs": [
    {
     "data": {
      "text/plain": [
       "<matplotlib.axes._subplots.AxesSubplot at 0x1a43de2358>"
      ]
     },
     "execution_count": 159,
     "metadata": {},
     "output_type": "execute_result"
    },
    {
     "data": {
      "image/png": "[encoded data removed]",
      "text/plain": [
       "<Figure size 432x288 with 1 Axes>"
      ]
     },
     "metadata": {},
     "output_type": "display_data"
    }
   ],
   "source": [
    "df['date'] = df.landing_time.dt.date\n",
    "df.groupby('date').mean().plot()"
   ]
  },
  {
   "cell_type": "code",
   "execution_count": 116,
   "metadata": {},
   "outputs": [],
   "source": [
    "df.t_minutes - df.t_minutes.mean()"
   ]
  },
  {
   "cell_type": "code",
   "execution_count": 160,
   "metadata": {},
   "outputs": [
    {
     "data": {
      "text/plain": [
       "22.174869331258225"
      ]
     },
     "execution_count": 160,
     "metadata": {},
     "output_type": "execute_result"
    }
   ],
   "source": [
    "((df.t_minutes - df.t_minutes.mean()) ** 2).mean()"
   ]
  },
  {
   "cell_type": "code",
   "execution_count": 162,
   "metadata": {},
   "outputs": [],
   "source": [
    "df.index = df.landing_time"
   ]
  },
  {
   "cell_type": "code",
   "execution_count": 166,
   "metadata": {},
   "outputs": [],
   "source": [
    "df.sort_index(inplace=True)"
   ]
  },
  {
   "cell_type": "code",
   "execution_count": 170,
   "metadata": {},
   "outputs": [
    {
     "ename": "ValueError",
     "evalue": "<2 * MonthEnds> is a non-fixed frequency",
     "output_type": "error",
     "traceback": [
      "\u001b[0;31m---------------------------------------------------------------------------\u001b[0m",
      "\u001b[0;31mValueError\u001b[0m                                Traceback (most recent call last)",
      "\u001b[0;32m<ipython-input-170-1d0e87d6a8ae>\u001b[0m in \u001b[0;36m<module>\u001b[0;34m\u001b[0m\n\u001b[0;32m----> 1\u001b[0;31m \u001b[0mdf\u001b[0m\u001b[0;34m.\u001b[0m\u001b[0mrolling\u001b[0m\u001b[0;34m(\u001b[0m\u001b[0;34m'2m'\u001b[0m\u001b[0;34m)\u001b[0m\u001b[0;34m.\u001b[0m\u001b[0mmean\u001b[0m\u001b[0;34m(\u001b[0m\u001b[0;34m)\u001b[0m\u001b[0;34m\u001b[0m\u001b[0;34m\u001b[0m\u001b[0m\n\u001b[0m",
      "\u001b[0;32m/anaconda3/lib/python3.6/site-packages/pandas/core/generic.py\u001b[0m in \u001b[0;36mrolling\u001b[0;34m(self, window, min_periods, freq, center, win_type, on, axis, closed)\u001b[0m\n\u001b[1;32m   7063\u001b[0m                                    \u001b[0mmin_periods\u001b[0m\u001b[0;34m=\u001b[0m\u001b[0mmin_periods\u001b[0m\u001b[0;34m,\u001b[0m \u001b[0mfreq\u001b[0m\u001b[0;34m=\u001b[0m\u001b[0mfreq\u001b[0m\u001b[0;34m,\u001b[0m\u001b[0;34m\u001b[0m\u001b[0;34m\u001b[0m\u001b[0m\n\u001b[1;32m   7064\u001b[0m                                    \u001b[0mcenter\u001b[0m\u001b[0;34m=\u001b[0m\u001b[0mcenter\u001b[0m\u001b[0;34m,\u001b[0m \u001b[0mwin_type\u001b[0m\u001b[0;34m=\u001b[0m\u001b[0mwin_type\u001b[0m\u001b[0;34m,\u001b[0m\u001b[0;34m\u001b[0m\u001b[0;34m\u001b[0m\u001b[0m\n\u001b[0;32m-> 7065\u001b[0;31m                                    on=on, axis=axis, closed=closed)\n\u001b[0m\u001b[1;32m   7066\u001b[0m \u001b[0;34m\u001b[0m\u001b[0m\n\u001b[1;32m   7067\u001b[0m         \u001b[0mcls\u001b[0m\u001b[0;34m.\u001b[0m\u001b[0mrolling\u001b[0m \u001b[0;34m=\u001b[0m \u001b[0mrolling\u001b[0m\u001b[0;34m\u001b[0m\u001b[0;34m\u001b[0m\u001b[0m\n",
      "\u001b[0;32m/anaconda3/lib/python3.6/site-packages/pandas/core/window.py\u001b[0m in \u001b[0;36mrolling\u001b[0;34m(obj, win_type, **kwds)\u001b[0m\n\u001b[1;32m   2064\u001b[0m         \u001b[0;32mreturn\u001b[0m \u001b[0mWindow\u001b[0m\u001b[0;34m(\u001b[0m\u001b[0mobj\u001b[0m\u001b[0;34m,\u001b[0m \u001b[0mwin_type\u001b[0m\u001b[0;34m=\u001b[0m\u001b[0mwin_type\u001b[0m\u001b[0;34m,\u001b[0m \u001b[0;34m**\u001b[0m\u001b[0mkwds\u001b[0m\u001b[0;34m)\u001b[0m\u001b[0;34m\u001b[0m\u001b[0;34m\u001b[0m\u001b[0m\n\u001b[1;32m   2065\u001b[0m \u001b[0;34m\u001b[0m\u001b[0m\n\u001b[0;32m-> 2066\u001b[0;31m     \u001b[0;32mreturn\u001b[0m \u001b[0mRolling\u001b[0m\u001b[0;34m(\u001b[0m\u001b[0mobj\u001b[0m\u001b[0;34m,\u001b[0m \u001b[0;34m**\u001b[0m\u001b[0mkwds\u001b[0m\u001b[0;34m)\u001b[0m\u001b[0;34m\u001b[0m\u001b[0;34m\u001b[0m\u001b[0m\n\u001b[0m\u001b[1;32m   2067\u001b[0m \u001b[0;34m\u001b[0m\u001b[0m\n\u001b[1;32m   2068\u001b[0m \u001b[0;34m\u001b[0m\u001b[0m\n",
      "\u001b[0;32m/anaconda3/lib/python3.6/site-packages/pandas/core/window.py\u001b[0m in \u001b[0;36m__init__\u001b[0;34m(self, obj, window, min_periods, freq, center, win_type, axis, on, closed, **kwargs)\u001b[0m\n\u001b[1;32m     84\u001b[0m         \u001b[0mself\u001b[0m\u001b[0;34m.\u001b[0m\u001b[0mwin_freq\u001b[0m \u001b[0;34m=\u001b[0m \u001b[0;32mNone\u001b[0m\u001b[0;34m\u001b[0m\u001b[0;34m\u001b[0m\u001b[0m\n\u001b[1;32m     85\u001b[0m         \u001b[0mself\u001b[0m\u001b[0;34m.\u001b[0m\u001b[0maxis\u001b[0m \u001b[0;34m=\u001b[0m \u001b[0mobj\u001b[0m\u001b[0;34m.\u001b[0m\u001b[0m_get_axis_number\u001b[0m\u001b[0;34m(\u001b[0m\u001b[0maxis\u001b[0m\u001b[0;34m)\u001b[0m \u001b[0;32mif\u001b[0m \u001b[0maxis\u001b[0m \u001b[0;32mis\u001b[0m \u001b[0;32mnot\u001b[0m \u001b[0;32mNone\u001b[0m \u001b[0;32melse\u001b[0m \u001b[0;32mNone\u001b[0m\u001b[0;34m\u001b[0m\u001b[0;34m\u001b[0m\u001b[0m\n\u001b[0;32m---> 86\u001b[0;31m         \u001b[0mself\u001b[0m\u001b[0;34m.\u001b[0m\u001b[0mvalidate\u001b[0m\u001b[0;34m(\u001b[0m\u001b[0;34m)\u001b[0m\u001b[0;34m\u001b[0m\u001b[0;34m\u001b[0m\u001b[0m\n\u001b[0m\u001b[1;32m     87\u001b[0m \u001b[0;34m\u001b[0m\u001b[0m\n\u001b[1;32m     88\u001b[0m     \u001b[0;34m@\u001b[0m\u001b[0mproperty\u001b[0m\u001b[0;34m\u001b[0m\u001b[0;34m\u001b[0m\u001b[0m\n",
      "\u001b[0;32m/anaconda3/lib/python3.6/site-packages/pandas/core/window.py\u001b[0m in \u001b[0;36mvalidate\u001b[0;34m(self)\u001b[0m\n\u001b[1;32m   1110\u001b[0m             \u001b[0;31m# this will raise ValueError on non-fixed freqs\u001b[0m\u001b[0;34m\u001b[0m\u001b[0;34m\u001b[0m\u001b[0;34m\u001b[0m\u001b[0m\n\u001b[1;32m   1111\u001b[0m             \u001b[0mself\u001b[0m\u001b[0;34m.\u001b[0m\u001b[0mwin_freq\u001b[0m \u001b[0;34m=\u001b[0m \u001b[0mself\u001b[0m\u001b[0;34m.\u001b[0m\u001b[0mwindow\u001b[0m\u001b[0;34m\u001b[0m\u001b[0;34m\u001b[0m\u001b[0m\n\u001b[0;32m-> 1112\u001b[0;31m             \u001b[0mself\u001b[0m\u001b[0;34m.\u001b[0m\u001b[0mwindow\u001b[0m \u001b[0;34m=\u001b[0m \u001b[0mfreq\u001b[0m\u001b[0;34m.\u001b[0m\u001b[0mnanos\u001b[0m\u001b[0;34m\u001b[0m\u001b[0;34m\u001b[0m\u001b[0m\n\u001b[0m\u001b[1;32m   1113\u001b[0m             \u001b[0mself\u001b[0m\u001b[0;34m.\u001b[0m\u001b[0mwin_type\u001b[0m \u001b[0;34m=\u001b[0m \u001b[0;34m'freq'\u001b[0m\u001b[0;34m\u001b[0m\u001b[0;34m\u001b[0m\u001b[0m\n\u001b[1;32m   1114\u001b[0m \u001b[0;34m\u001b[0m\u001b[0m\n",
      "\u001b[0;32m/anaconda3/lib/python3.6/site-packages/pandas/tseries/offsets.py\u001b[0m in \u001b[0;36mnanos\u001b[0;34m(self)\u001b[0m\n\u001b[1;32m    528\u001b[0m     \u001b[0;34m@\u001b[0m\u001b[0mproperty\u001b[0m\u001b[0;34m\u001b[0m\u001b[0;34m\u001b[0m\u001b[0m\n\u001b[1;32m    529\u001b[0m     \u001b[0;32mdef\u001b[0m \u001b[0mnanos\u001b[0m\u001b[0;34m(\u001b[0m\u001b[0mself\u001b[0m\u001b[0;34m)\u001b[0m\u001b[0;34m:\u001b[0m\u001b[0;34m\u001b[0m\u001b[0;34m\u001b[0m\u001b[0m\n\u001b[0;32m--> 530\u001b[0;31m         \u001b[0;32mraise\u001b[0m \u001b[0mValueError\u001b[0m\u001b[0;34m(\u001b[0m\u001b[0;34m\"{name} is a non-fixed frequency\"\u001b[0m\u001b[0;34m.\u001b[0m\u001b[0mformat\u001b[0m\u001b[0;34m(\u001b[0m\u001b[0mname\u001b[0m\u001b[0;34m=\u001b[0m\u001b[0mself\u001b[0m\u001b[0;34m)\u001b[0m\u001b[0;34m)\u001b[0m\u001b[0;34m\u001b[0m\u001b[0;34m\u001b[0m\u001b[0m\n\u001b[0m\u001b[1;32m    531\u001b[0m \u001b[0;34m\u001b[0m\u001b[0m\n\u001b[1;32m    532\u001b[0m \u001b[0;34m\u001b[0m\u001b[0m\n",
      "\u001b[0;31mValueError\u001b[0m: <2 * MonthEnds> is a non-fixed frequency"
     ]
    }
   ],
   "source": [
    "df.rolling('2m').mean()"
   ]
  },
  {
   "cell_type": "code",
   "execution_count": null,
   "metadata": {},
   "outputs": [],
   "source": []
  }
 ],
 "metadata": {
  "kernelspec": {
   "display_name": "Python 3",
   "language": "python",
   "name": "python3"
  },
  "language_info": {
   "codemirror_mode": {
    "name": "ipython",
    "version": 3
   },
   "file_extension": ".py",
   "mimetype": "text/x-python",
   "name": "python",
   "nbconvert_exporter": "python",
   "pygments_lexer": "ipython3",
   "version": "3.6.8"
  }
 },
 "nbformat": 4,
 "nbformat_minor": 2
}
